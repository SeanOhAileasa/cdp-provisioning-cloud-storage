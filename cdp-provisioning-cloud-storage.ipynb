{
 "cells": [
  {
   "cell_type": "markdown",
   "id": "d4ee9e4b",
   "metadata": {},
   "source": [
    "***\n",
    "< [Home](https://github.com/SeanOhAileasa) | [README](https://github.com/SeanOhAileasa/cdp-provisioning-cloud-storage/blob/main/README.md) >\n",
    "\n",
    "## CompTIA Cloud+ - Course Material 2022\n",
    "###### Topic: ``Provisioning Cloud Storage``\n",
    "***"
   ]
  },
  {
   "cell_type": "markdown",
   "id": "e7228f57",
   "metadata": {},
   "source": [
    "<a id=\"top\"></a>\n",
    "***\n",
    "## Table of Contents\n",
    "***"
   ]
  },
  {
   "cell_type": "markdown",
   "id": "c2bb5e7b",
   "metadata": {},
   "source": [
    "### [Provisioning Cloud Storage](#aa) <br/><br/>\n",
    "<hr width=50%;>"
   ]
  },
  {
   "cell_type": "markdown",
   "id": "ae8c2fbf",
   "metadata": {},
   "source": [
    "### [Cloud Storage Types](#A) <br/><br/>\n",
    "<hr width=50%;>"
   ]
  },
  {
   "cell_type": "markdown",
   "id": "94bc8f5c",
   "metadata": {},
   "source": [
    "### [Cloud Storage Tiers](#B) <br/><br/>\n",
    "<hr width=50%;>"
   ]
  },
  {
   "cell_type": "markdown",
   "id": "b11525d0",
   "metadata": {},
   "source": [
    "### [Cloud Storage IOPS](#C) <br/><br/>\n",
    "<hr width=50%;>"
   ]
  },
  {
   "cell_type": "markdown",
   "id": "6229ba3d",
   "metadata": {},
   "source": [
    "### [Cloud Storage Protocols](#D) <br/><br/>\n",
    "<hr width=50%;>"
   ]
  },
  {
   "cell_type": "markdown",
   "id": "f162be04",
   "metadata": {},
   "source": [
    "### [Cloud RAID Storage](#E) <br/><br/>\n",
    "<hr width=50%;>"
   ]
  },
  {
   "cell_type": "markdown",
   "id": "aaa13bdd",
   "metadata": {},
   "source": [
    "### [Cloud Storage System Features](#F) <br/><br/>\n",
    "<hr width=50%;>"
   ]
  },
  {
   "cell_type": "markdown",
   "id": "190a75ed",
   "metadata": {},
   "source": [
    "### [Cloud Storage User Quotas](#G) <br/><br/>\n",
    "<hr width=50%;>"
   ]
  },
  {
   "cell_type": "markdown",
   "id": "6cd3265c",
   "metadata": {},
   "source": [
    "### [Hyperconverged Infrastructure](#H) <br/><br/>\n",
    "<hr width=50%;>"
   ]
  },
  {
   "cell_type": "markdown",
   "id": "9833ce0c",
   "metadata": {},
   "source": [
    "### [Software-defined Storage](#I) <br/><br/>\n",
    "<hr width=50%;>"
   ]
  },
  {
   "cell_type": "markdown",
   "id": "9927d8ef",
   "metadata": {},
   "source": [
    "### [Provisioning Cloud-based Storage](#J) <br/><br/>\n",
    "<hr width=50%;>"
   ]
  },
  {
   "cell_type": "markdown",
   "id": "cffb63ef",
   "metadata": {},
   "source": [
    "### [Course Summary](#K) <br/><br/>\n",
    "<hr width=50%;>"
   ]
  },
  {
   "cell_type": "markdown",
   "id": "bf2b95e2",
   "metadata": {},
   "source": [
    "***\n",
    "## END"
   ]
  },
  {
   "cell_type": "markdown",
   "id": "34aa6eb5",
   "metadata": {},
   "source": [
    "< [Table of Contents](#top) | [References](#references) >\n",
    "<a id=\"aa\"></a>\n",
    "***\n",
    "### Provisioning Cloud Storage\n",
    "***"
   ]
  },
  {
   "cell_type": "markdown",
   "id": "460565d7",
   "metadata": {},
   "source": []
  },
  {
   "cell_type": "markdown",
   "id": "e296ea77",
   "metadata": {},
   "source": [
    "< [Table of Contents](#top) | [References](#references) >\n",
    "<a id=\"A\"></a>\n",
    "***\n",
    "### Cloud Storage Types\n",
    "*** "
   ]
  },
  {
   "cell_type": "markdown",
   "id": "2a0973b9",
   "metadata": {},
   "source": []
  },
  {
   "cell_type": "markdown",
   "id": "ddc65144",
   "metadata": {},
   "source": [
    "< [Table of Contents](#top) | [References](#references) >\n",
    "<a id=\"B\"></a>\n",
    "***\n",
    "### Cloud Storage Tiers\n",
    "*** "
   ]
  },
  {
   "cell_type": "markdown",
   "id": "34e9581d",
   "metadata": {},
   "source": []
  },
  {
   "cell_type": "markdown",
   "id": "9b1722c5",
   "metadata": {},
   "source": [
    "< [Table of Contents](#top) | [References](#references) >\n",
    "<a id=\"C\"></a>\n",
    "***\n",
    "### Cloud Storage IOPS\n",
    "*** "
   ]
  },
  {
   "cell_type": "markdown",
   "id": "08cac280",
   "metadata": {},
   "source": []
  },
  {
   "cell_type": "markdown",
   "id": "ccc4ee63",
   "metadata": {},
   "source": [
    "< [Table of Contents](#top) | [References](#references) >\n",
    "<a id=\"D\"></a>\n",
    "***\n",
    "### Cloud Storage Protocols\n",
    "*** "
   ]
  },
  {
   "cell_type": "markdown",
   "id": "ec2109c0",
   "metadata": {},
   "source": []
  },
  {
   "cell_type": "markdown",
   "id": "8a3e6422",
   "metadata": {},
   "source": [
    "< [Table of Contents](#top) | [References](#references) >\n",
    "<a id=\"E\"></a>\n",
    "***\n",
    "### Cloud RAID Storage\n",
    "*** "
   ]
  },
  {
   "cell_type": "markdown",
   "id": "e5ac0c41",
   "metadata": {},
   "source": []
  },
  {
   "cell_type": "markdown",
   "id": "ba20d4f4",
   "metadata": {},
   "source": [
    "< [Table of Contents](#top) | [References](#references) >\n",
    "<a id=\"F\"></a>\n",
    "***\n",
    "### Cloud Storage System Features\n",
    "*** "
   ]
  },
  {
   "cell_type": "markdown",
   "id": "e0b6175e",
   "metadata": {},
   "source": []
  },
  {
   "cell_type": "markdown",
   "id": "4f8b849a",
   "metadata": {},
   "source": [
    "< [Table of Contents](#top) | [References](#references) >\n",
    "<a id=\"G\"></a>\n",
    "***\n",
    "### Cloud Storage User Quotas\n",
    "*** "
   ]
  },
  {
   "cell_type": "markdown",
   "id": "9e485178",
   "metadata": {},
   "source": []
  },
  {
   "cell_type": "markdown",
   "id": "34263bfe",
   "metadata": {},
   "source": [
    "< [Table of Contents](#top) | [References](#references) >\n",
    "<a id=\"H\"></a>\n",
    "***\n",
    "### Hyperconverged Infrastructure\n",
    "*** "
   ]
  },
  {
   "cell_type": "markdown",
   "id": "3810459c",
   "metadata": {},
   "source": []
  },
  {
   "cell_type": "markdown",
   "id": "6d1cee4d",
   "metadata": {},
   "source": [
    "< [Table of Contents](#top) | [References](#references) >\n",
    "<a id=\"I\"></a>\n",
    "***\n",
    "### Software-defined Storage\n",
    "*** "
   ]
  },
  {
   "cell_type": "markdown",
   "id": "ccbaf257",
   "metadata": {},
   "source": []
  },
  {
   "cell_type": "markdown",
   "id": "60df6e82",
   "metadata": {},
   "source": [
    "< [Table of Contents](#top) | [References](#references) >\n",
    "<a id=\"J\"></a>\n",
    "***\n",
    "### Provisioning Cloud-based Storage\n",
    "*** "
   ]
  },
  {
   "cell_type": "markdown",
   "id": "b888a531",
   "metadata": {},
   "source": []
  },
  {
   "cell_type": "markdown",
   "id": "173e78b5",
   "metadata": {},
   "source": [
    "< [Table of Contents](#top) | [References](#references) >\n",
    "<a id=\"K\"></a>\n",
    "***\n",
    "### Course Summary\n",
    "*** "
   ]
  },
  {
   "cell_type": "markdown",
   "id": "d2d735c2",
   "metadata": {},
   "source": []
  },
  {
   "cell_type": "markdown",
   "id": "2cc20932",
   "metadata": {},
   "source": [
    "***\n",
    "## END"
   ]
  },
  {
   "cell_type": "markdown",
   "id": "e0e42d51",
   "metadata": {},
   "source": [
    "< [Table of Contents](#top) >\n",
    "<a id=\"references\"></a>\n",
    "***\n",
    "## References\n",
    "***"
   ]
  },
  {
   "cell_type": "markdown",
   "id": "757bf6de",
   "metadata": {},
   "source": [
    "&nbsp;&nbsp;&nbsp;&nbsp;&nbsp;&nbsp;&nbsp;&nbsp;&nbsp;skillsoft, \"Provisioning Cloud Storage,\" [skillsoft.com](https://web.archive.org/web/20220403100053/https://www.skillsoft.com/), n.d.."
   ]
  },
  {
   "cell_type": "markdown",
   "id": "b33c372a",
   "metadata": {},
   "source": [
    "***\n",
    "## END"
   ]
  },
  {
   "cell_type": "markdown",
   "id": "e5961b4d",
   "metadata": {},
   "source": [
    "< [Table of Contents](#top) | [References](#references) >\n",
    "<a id=\"appendix\"></a>\n",
    "***\n",
    "## Appendix\n",
    "***"
   ]
  },
  {
   "cell_type": "markdown",
   "id": "00d82a82",
   "metadata": {},
   "source": [
    "***\n",
    "## END"
   ]
  },
  {
   "cell_type": "code",
   "execution_count": 1,
   "id": "706756a2",
   "metadata": {},
   "outputs": [
    {
     "name": "stderr",
     "output_type": "stream",
     "text": [
      "C:\\Users\\SeanOhAileasa\\AppData\\Local\\Temp\\ipykernel_12132\\1322614208.py:1: DeprecationWarning: Importing display from IPython.core.display is deprecated since IPython 7.14, please import from IPython display\n",
      "  from IPython.core.display import display,HTML\n"
     ]
    },
    {
     "data": {
      "text/html": [
       "<style>.container { width:100% !important; }</style>"
      ],
      "text/plain": [
       "<IPython.core.display.HTML object>"
      ]
     },
     "metadata": {},
     "output_type": "display_data"
    }
   ],
   "source": [
    "from IPython.core.display import display,HTML\n",
    "display(HTML(\"<style>.container { width:100% !important; }</style>\"))"
   ]
  },
  {
   "cell_type": "markdown",
   "id": "899c1783",
   "metadata": {},
   "source": [
    "# END JUPYTER NOTEBOOK"
   ]
  }
 ],
 "metadata": {
  "kernelspec": {
   "display_name": "Python 3 (ipykernel)",
   "language": "python",
   "name": "python3"
  },
  "language_info": {
   "codemirror_mode": {
    "name": "ipython",
    "version": 3
   },
   "file_extension": ".py",
   "mimetype": "text/x-python",
   "name": "python",
   "nbconvert_exporter": "python",
   "pygments_lexer": "ipython3",
   "version": "3.9.12"
  }
 },
 "nbformat": 4,
 "nbformat_minor": 5
}
